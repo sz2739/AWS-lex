{
 "cells": [
  {
   "cell_type": "markdown",
   "metadata": {},
   "source": [
    "# Clustering Crypto"
   ]
  },
  {
   "cell_type": "code",
   "execution_count": 624,
   "metadata": {},
   "outputs": [],
   "source": [
    "# Initial imports\n",
    "import pandas as pd\n",
    "import hvplot.pandas\n",
    "from pathlib import Path\n",
    "import plotly.express as px\n",
    "from sklearn.preprocessing import StandardScaler, MinMaxScaler\n",
    "from sklearn.decomposition import PCA\n",
    "from sklearn.cluster import KMeans"
   ]
  },
  {
   "cell_type": "markdown",
   "metadata": {},
   "source": [
    "### Data Preprocessing"
   ]
  },
  {
   "cell_type": "code",
   "execution_count": 625,
   "metadata": {},
   "outputs": [
    {
     "data": {
      "text/html": "<div>\n<style scoped>\n    .dataframe tbody tr th:only-of-type {\n        vertical-align: middle;\n    }\n\n    .dataframe tbody tr th {\n        vertical-align: top;\n    }\n\n    .dataframe thead th {\n        text-align: right;\n    }\n</style>\n<table border=\"1\" class=\"dataframe\">\n  <thead>\n    <tr style=\"text-align: right;\">\n      <th></th>\n      <th>CoinName</th>\n      <th>Algorithm</th>\n      <th>IsTrading</th>\n      <th>ProofType</th>\n      <th>TotalCoinsMined</th>\n      <th>TotalCoinSupply</th>\n    </tr>\n  </thead>\n  <tbody>\n    <tr>\n      <th>42</th>\n      <td>42 Coin</td>\n      <td>Scrypt</td>\n      <td>True</td>\n      <td>PoW/PoS</td>\n      <td>4.199995e+01</td>\n      <td>42</td>\n    </tr>\n    <tr>\n      <th>365</th>\n      <td>365Coin</td>\n      <td>X11</td>\n      <td>True</td>\n      <td>PoW/PoS</td>\n      <td>NaN</td>\n      <td>2300000000</td>\n    </tr>\n    <tr>\n      <th>404</th>\n      <td>404Coin</td>\n      <td>Scrypt</td>\n      <td>True</td>\n      <td>PoW/PoS</td>\n      <td>1.055185e+09</td>\n      <td>532000000</td>\n    </tr>\n    <tr>\n      <th>611</th>\n      <td>SixEleven</td>\n      <td>SHA-256</td>\n      <td>True</td>\n      <td>PoW</td>\n      <td>NaN</td>\n      <td>611000</td>\n    </tr>\n    <tr>\n      <th>808</th>\n      <td>808</td>\n      <td>SHA-256</td>\n      <td>True</td>\n      <td>PoW/PoS</td>\n      <td>0.000000e+00</td>\n      <td>0</td>\n    </tr>\n    <tr>\n      <th>1337</th>\n      <td>EliteCoin</td>\n      <td>X13</td>\n      <td>True</td>\n      <td>PoW/PoS</td>\n      <td>2.927942e+10</td>\n      <td>314159265359</td>\n    </tr>\n    <tr>\n      <th>2015</th>\n      <td>2015 coin</td>\n      <td>X11</td>\n      <td>True</td>\n      <td>PoW/PoS</td>\n      <td>NaN</td>\n      <td>0</td>\n    </tr>\n    <tr>\n      <th>BTC</th>\n      <td>Bitcoin</td>\n      <td>SHA-256</td>\n      <td>True</td>\n      <td>PoW</td>\n      <td>1.792718e+07</td>\n      <td>21000000</td>\n    </tr>\n    <tr>\n      <th>ETH</th>\n      <td>Ethereum</td>\n      <td>Ethash</td>\n      <td>True</td>\n      <td>PoW</td>\n      <td>1.076842e+08</td>\n      <td>0</td>\n    </tr>\n    <tr>\n      <th>LTC</th>\n      <td>Litecoin</td>\n      <td>Scrypt</td>\n      <td>True</td>\n      <td>PoW</td>\n      <td>6.303924e+07</td>\n      <td>84000000</td>\n    </tr>\n  </tbody>\n</table>\n</div>",
      "text/plain": "       CoinName Algorithm  IsTrading ProofType  TotalCoinsMined  \\\n42      42 Coin    Scrypt       True   PoW/PoS     4.199995e+01   \n365     365Coin       X11       True   PoW/PoS              NaN   \n404     404Coin    Scrypt       True   PoW/PoS     1.055185e+09   \n611   SixEleven   SHA-256       True       PoW              NaN   \n808         808   SHA-256       True   PoW/PoS     0.000000e+00   \n1337  EliteCoin       X13       True   PoW/PoS     2.927942e+10   \n2015  2015 coin       X11       True   PoW/PoS              NaN   \nBTC     Bitcoin   SHA-256       True       PoW     1.792718e+07   \nETH    Ethereum    Ethash       True       PoW     1.076842e+08   \nLTC    Litecoin    Scrypt       True       PoW     6.303924e+07   \n\n     TotalCoinSupply  \n42                42  \n365       2300000000  \n404        532000000  \n611           611000  \n808                0  \n1337    314159265359  \n2015               0  \nBTC         21000000  \nETH                0  \nLTC         84000000  "
     },
     "execution_count": 625,
     "metadata": {},
     "output_type": "execute_result"
    }
   ],
   "source": [
    "# Loade the cryptocurrencies data\n",
    "file_path = Path(\"Resources/crypto_data.csv\")\n",
    "crypto_df = pd.read_csv(file_path, index_col=0)\n",
    "crypto_df.head(10)"
   ]
  },
  {
   "cell_type": "code",
   "execution_count": 626,
   "metadata": {},
   "outputs": [
    {
     "data": {
      "text/html": "<div>\n<style scoped>\n    .dataframe tbody tr th:only-of-type {\n        vertical-align: middle;\n    }\n\n    .dataframe tbody tr th {\n        vertical-align: top;\n    }\n\n    .dataframe thead th {\n        text-align: right;\n    }\n</style>\n<table border=\"1\" class=\"dataframe\">\n  <thead>\n    <tr style=\"text-align: right;\">\n      <th></th>\n      <th>CoinName</th>\n      <th>Algorithm</th>\n      <th>IsTrading</th>\n      <th>ProofType</th>\n      <th>TotalCoinsMined</th>\n      <th>TotalCoinSupply</th>\n    </tr>\n  </thead>\n  <tbody>\n    <tr>\n      <th>42</th>\n      <td>42 Coin</td>\n      <td>Scrypt</td>\n      <td>True</td>\n      <td>PoW/PoS</td>\n      <td>4.199995e+01</td>\n      <td>42</td>\n    </tr>\n    <tr>\n      <th>365</th>\n      <td>365Coin</td>\n      <td>X11</td>\n      <td>True</td>\n      <td>PoW/PoS</td>\n      <td>NaN</td>\n      <td>2300000000</td>\n    </tr>\n    <tr>\n      <th>404</th>\n      <td>404Coin</td>\n      <td>Scrypt</td>\n      <td>True</td>\n      <td>PoW/PoS</td>\n      <td>1.055185e+09</td>\n      <td>532000000</td>\n    </tr>\n    <tr>\n      <th>611</th>\n      <td>SixEleven</td>\n      <td>SHA-256</td>\n      <td>True</td>\n      <td>PoW</td>\n      <td>NaN</td>\n      <td>611000</td>\n    </tr>\n    <tr>\n      <th>808</th>\n      <td>808</td>\n      <td>SHA-256</td>\n      <td>True</td>\n      <td>PoW/PoS</td>\n      <td>0.000000e+00</td>\n      <td>0</td>\n    </tr>\n  </tbody>\n</table>\n</div>",
      "text/plain": "      CoinName Algorithm  IsTrading ProofType  TotalCoinsMined TotalCoinSupply\n42     42 Coin    Scrypt       True   PoW/PoS     4.199995e+01              42\n365    365Coin       X11       True   PoW/PoS              NaN      2300000000\n404    404Coin    Scrypt       True   PoW/PoS     1.055185e+09       532000000\n611  SixEleven   SHA-256       True       PoW              NaN          611000\n808        808   SHA-256       True   PoW/PoS     0.000000e+00               0"
     },
     "execution_count": 626,
     "metadata": {},
     "output_type": "execute_result"
    }
   ],
   "source": [
    "# Keep only cryptocurrencies that are on trading\n",
    "crypto_df.drop(crypto_df[crypto_df['IsTrading'] == False].index, inplace=True) \n",
    "crypto_df.head()"
   ]
  },
  {
   "cell_type": "code",
   "execution_count": 627,
   "metadata": {},
   "outputs": [
    {
     "data": {
      "text/html": "<div>\n<style scoped>\n    .dataframe tbody tr th:only-of-type {\n        vertical-align: middle;\n    }\n\n    .dataframe tbody tr th {\n        vertical-align: top;\n    }\n\n    .dataframe thead th {\n        text-align: right;\n    }\n</style>\n<table border=\"1\" class=\"dataframe\">\n  <thead>\n    <tr style=\"text-align: right;\">\n      <th></th>\n      <th>CoinName</th>\n      <th>Algorithm</th>\n      <th>IsTrading</th>\n      <th>ProofType</th>\n      <th>TotalCoinsMined</th>\n      <th>TotalCoinSupply</th>\n    </tr>\n  </thead>\n  <tbody>\n    <tr>\n      <th>42</th>\n      <td>42 Coin</td>\n      <td>Scrypt</td>\n      <td>True</td>\n      <td>PoW/PoS</td>\n      <td>4.199995e+01</td>\n      <td>42</td>\n    </tr>\n    <tr>\n      <th>404</th>\n      <td>404Coin</td>\n      <td>Scrypt</td>\n      <td>True</td>\n      <td>PoW/PoS</td>\n      <td>1.055185e+09</td>\n      <td>532000000</td>\n    </tr>\n    <tr>\n      <th>808</th>\n      <td>808</td>\n      <td>SHA-256</td>\n      <td>True</td>\n      <td>PoW/PoS</td>\n      <td>0.000000e+00</td>\n      <td>0</td>\n    </tr>\n    <tr>\n      <th>1337</th>\n      <td>EliteCoin</td>\n      <td>X13</td>\n      <td>True</td>\n      <td>PoW/PoS</td>\n      <td>2.927942e+10</td>\n      <td>314159265359</td>\n    </tr>\n    <tr>\n      <th>BTC</th>\n      <td>Bitcoin</td>\n      <td>SHA-256</td>\n      <td>True</td>\n      <td>PoW</td>\n      <td>1.792718e+07</td>\n      <td>21000000</td>\n    </tr>\n  </tbody>\n</table>\n</div>",
      "text/plain": "       CoinName Algorithm  IsTrading ProofType  TotalCoinsMined  \\\n42      42 Coin    Scrypt       True   PoW/PoS     4.199995e+01   \n404     404Coin    Scrypt       True   PoW/PoS     1.055185e+09   \n808         808   SHA-256       True   PoW/PoS     0.000000e+00   \n1337  EliteCoin       X13       True   PoW/PoS     2.927942e+10   \nBTC     Bitcoin   SHA-256       True       PoW     1.792718e+07   \n\n     TotalCoinSupply  \n42                42  \n404        532000000  \n808                0  \n1337    314159265359  \nBTC         21000000  "
     },
     "execution_count": 627,
     "metadata": {},
     "output_type": "execute_result"
    }
   ],
   "source": [
    "# Keep only cryptocurrencies with a working algorithm\n",
    "crypto_df = crypto_df[crypto_df['TotalCoinsMined'].notna()]\n",
    "crypto_df.head()"
   ]
  },
  {
   "cell_type": "code",
   "execution_count": 628,
   "metadata": {},
   "outputs": [
    {
     "data": {
      "text/html": "<div>\n<style scoped>\n    .dataframe tbody tr th:only-of-type {\n        vertical-align: middle;\n    }\n\n    .dataframe tbody tr th {\n        vertical-align: top;\n    }\n\n    .dataframe thead th {\n        text-align: right;\n    }\n</style>\n<table border=\"1\" class=\"dataframe\">\n  <thead>\n    <tr style=\"text-align: right;\">\n      <th></th>\n      <th>CoinName</th>\n      <th>Algorithm</th>\n      <th>ProofType</th>\n      <th>TotalCoinsMined</th>\n      <th>TotalCoinSupply</th>\n    </tr>\n  </thead>\n  <tbody>\n    <tr>\n      <th>42</th>\n      <td>42 Coin</td>\n      <td>Scrypt</td>\n      <td>PoW/PoS</td>\n      <td>4.199995e+01</td>\n      <td>42</td>\n    </tr>\n    <tr>\n      <th>404</th>\n      <td>404Coin</td>\n      <td>Scrypt</td>\n      <td>PoW/PoS</td>\n      <td>1.055185e+09</td>\n      <td>532000000</td>\n    </tr>\n    <tr>\n      <th>808</th>\n      <td>808</td>\n      <td>SHA-256</td>\n      <td>PoW/PoS</td>\n      <td>0.000000e+00</td>\n      <td>0</td>\n    </tr>\n    <tr>\n      <th>1337</th>\n      <td>EliteCoin</td>\n      <td>X13</td>\n      <td>PoW/PoS</td>\n      <td>2.927942e+10</td>\n      <td>314159265359</td>\n    </tr>\n    <tr>\n      <th>BTC</th>\n      <td>Bitcoin</td>\n      <td>SHA-256</td>\n      <td>PoW</td>\n      <td>1.792718e+07</td>\n      <td>21000000</td>\n    </tr>\n  </tbody>\n</table>\n</div>",
      "text/plain": "       CoinName Algorithm ProofType  TotalCoinsMined TotalCoinSupply\n42      42 Coin    Scrypt   PoW/PoS     4.199995e+01              42\n404     404Coin    Scrypt   PoW/PoS     1.055185e+09       532000000\n808         808   SHA-256   PoW/PoS     0.000000e+00               0\n1337  EliteCoin       X13   PoW/PoS     2.927942e+10    314159265359\nBTC     Bitcoin   SHA-256       PoW     1.792718e+07        21000000"
     },
     "execution_count": 628,
     "metadata": {},
     "output_type": "execute_result"
    }
   ],
   "source": [
    "# Remove the \"IsTrading\" column\n",
    "crypto_df.drop(columns=[\"IsTrading\"], inplace=True)\n",
    "crypto_df.head()"
   ]
  },
  {
   "cell_type": "code",
   "execution_count": 629,
   "metadata": {},
   "outputs": [
    {
     "data": {
      "text/html": "<div>\n<style scoped>\n    .dataframe tbody tr th:only-of-type {\n        vertical-align: middle;\n    }\n\n    .dataframe tbody tr th {\n        vertical-align: top;\n    }\n\n    .dataframe thead th {\n        text-align: right;\n    }\n</style>\n<table border=\"1\" class=\"dataframe\">\n  <thead>\n    <tr style=\"text-align: right;\">\n      <th></th>\n      <th>CoinName</th>\n      <th>Algorithm</th>\n      <th>ProofType</th>\n      <th>TotalCoinsMined</th>\n      <th>TotalCoinSupply</th>\n    </tr>\n  </thead>\n  <tbody>\n    <tr>\n      <th>42</th>\n      <td>42 Coin</td>\n      <td>Scrypt</td>\n      <td>PoW/PoS</td>\n      <td>4.199995e+01</td>\n      <td>42</td>\n    </tr>\n    <tr>\n      <th>404</th>\n      <td>404Coin</td>\n      <td>Scrypt</td>\n      <td>PoW/PoS</td>\n      <td>1.055185e+09</td>\n      <td>532000000</td>\n    </tr>\n    <tr>\n      <th>808</th>\n      <td>808</td>\n      <td>SHA-256</td>\n      <td>PoW/PoS</td>\n      <td>0.000000e+00</td>\n      <td>0</td>\n    </tr>\n    <tr>\n      <th>1337</th>\n      <td>EliteCoin</td>\n      <td>X13</td>\n      <td>PoW/PoS</td>\n      <td>2.927942e+10</td>\n      <td>314159265359</td>\n    </tr>\n    <tr>\n      <th>BTC</th>\n      <td>Bitcoin</td>\n      <td>SHA-256</td>\n      <td>PoW</td>\n      <td>1.792718e+07</td>\n      <td>21000000</td>\n    </tr>\n  </tbody>\n</table>\n</div>",
      "text/plain": "       CoinName Algorithm ProofType  TotalCoinsMined TotalCoinSupply\n42      42 Coin    Scrypt   PoW/PoS     4.199995e+01              42\n404     404Coin    Scrypt   PoW/PoS     1.055185e+09       532000000\n808         808   SHA-256   PoW/PoS     0.000000e+00               0\n1337  EliteCoin       X13   PoW/PoS     2.927942e+10    314159265359\nBTC     Bitcoin   SHA-256       PoW     1.792718e+07        21000000"
     },
     "execution_count": 629,
     "metadata": {},
     "output_type": "execute_result"
    }
   ],
   "source": [
    "# Remove rows with at least 1 null value\n",
    "crypto_df.dropna(thresh=1).head()"
   ]
  },
  {
   "cell_type": "code",
   "execution_count": 630,
   "metadata": {},
   "outputs": [
    {
     "data": {
      "text/html": "<div>\n<style scoped>\n    .dataframe tbody tr th:only-of-type {\n        vertical-align: middle;\n    }\n\n    .dataframe tbody tr th {\n        vertical-align: top;\n    }\n\n    .dataframe thead th {\n        text-align: right;\n    }\n</style>\n<table border=\"1\" class=\"dataframe\">\n  <thead>\n    <tr style=\"text-align: right;\">\n      <th></th>\n      <th>CoinName</th>\n      <th>Algorithm</th>\n      <th>ProofType</th>\n      <th>TotalCoinsMined</th>\n      <th>TotalCoinSupply</th>\n    </tr>\n  </thead>\n  <tbody>\n    <tr>\n      <th>42</th>\n      <td>42 Coin</td>\n      <td>Scrypt</td>\n      <td>PoW/PoS</td>\n      <td>4.199995e+01</td>\n      <td>42</td>\n    </tr>\n    <tr>\n      <th>404</th>\n      <td>404Coin</td>\n      <td>Scrypt</td>\n      <td>PoW/PoS</td>\n      <td>1.055185e+09</td>\n      <td>532000000</td>\n    </tr>\n    <tr>\n      <th>808</th>\n      <td>808</td>\n      <td>SHA-256</td>\n      <td>PoW/PoS</td>\n      <td>0.000000e+00</td>\n      <td>0</td>\n    </tr>\n    <tr>\n      <th>1337</th>\n      <td>EliteCoin</td>\n      <td>X13</td>\n      <td>PoW/PoS</td>\n      <td>2.927942e+10</td>\n      <td>314159265359</td>\n    </tr>\n    <tr>\n      <th>BTC</th>\n      <td>Bitcoin</td>\n      <td>SHA-256</td>\n      <td>PoW</td>\n      <td>1.792718e+07</td>\n      <td>21000000</td>\n    </tr>\n  </tbody>\n</table>\n</div>",
      "text/plain": "       CoinName Algorithm ProofType  TotalCoinsMined TotalCoinSupply\n42      42 Coin    Scrypt   PoW/PoS     4.199995e+01              42\n404     404Coin    Scrypt   PoW/PoS     1.055185e+09       532000000\n808         808   SHA-256   PoW/PoS     0.000000e+00               0\n1337  EliteCoin       X13   PoW/PoS     2.927942e+10    314159265359\nBTC     Bitcoin   SHA-256       PoW     1.792718e+07        21000000"
     },
     "execution_count": 630,
     "metadata": {},
     "output_type": "execute_result"
    }
   ],
   "source": [
    "# Remove rows with cryptocurrencies without coins mined\n",
    "crypto_df = crypto_df[crypto_df['TotalCoinsMined'].notna()]\n",
    "crypto_df.head()"
   ]
  },
  {
   "cell_type": "code",
   "execution_count": 631,
   "metadata": {},
   "outputs": [
    {
     "data": {
      "text/plain": "['42 Coin',\n '404Coin',\n '808',\n 'EliteCoin',\n 'Bitcoin',\n 'Ethereum',\n 'Litecoin',\n 'Dash',\n 'Monero',\n 'Ethereum Classic',\n 'ZCash',\n 'Bitshares',\n 'DigiByte',\n 'BitcoinDark',\n 'Bitstake',\n 'PayCoin',\n 'ProsperCoin',\n 'KoboCoin',\n 'Spreadcoin',\n 'ACoin',\n 'Aero Coin',\n 'ApexCoin',\n 'ArchCoin',\n 'Argentum',\n 'Aurora Coin',\n 'BetaCoin',\n 'BlueCoin',\n 'MyriadCoin',\n 'MoonCoin',\n 'ZetaCoin',\n 'SexCoin',\n 'Quatloo',\n 'EnergyCoin',\n 'QuarkCoin',\n 'Riecoin',\n 'Digitalcoin ',\n 'LimeCoinX',\n 'BitBar',\n 'BitMark',\n 'CashCoin',\n 'Catcoin',\n 'CryptoBullion',\n 'CannaCoin',\n 'CinderCoin',\n 'CoolCoin',\n 'CryptCoin',\n 'CasinoCoin',\n 'eMark',\n 'Diamond',\n 'Verge',\n 'DarkCash',\n 'DarkShibe',\n 'DevCoin',\n 'EarthCoin',\n 'E-Gulden',\n 'Elacoin',\n 'Einsteinium',\n 'Emerald',\n 'Exclusive Coin',\n 'Flappy Coin',\n 'Fuel2Coin',\n 'FIBRE',\n 'FireRoosterCoin',\n 'FlutterCoin',\n 'Franko',\n 'FeatherCoin',\n 'GrandCoin',\n 'GlobalCoin',\n 'GoldCoin',\n 'GlyphCoin',\n 'Halcyon',\n 'HoboNickels',\n 'HunterCoin',\n 'HyperStake',\n 'Infinite Coin',\n 'IOCoin',\n 'IXcoin',\n 'JumBucks Coin',\n 'JudgeCoin',\n 'KrugerCoin',\n 'LuckyCoin',\n 'Litebar ',\n 'LitecoinDark',\n 'LibrexCoin',\n 'MaxCoin',\n 'MegaCoin',\n 'MediterraneanCoin',\n 'MintCoin',\n 'MinCoin',\n 'MazaCoin',\n 'Nautilus Coin',\n 'NavCoin',\n 'NoirBits',\n 'NobleCoin',\n 'Namecoin',\n 'NyanCoin',\n 'OpalCoin',\n 'Orbitcoin',\n 'PotCoin',\n 'PhoenixCoin',\n 'Reddcoin',\n 'RipOffCoin',\n 'RonPaulCoin',\n 'StableCoin',\n 'ShieldCoin',\n 'SilkCoin',\n 'SmartCoin',\n 'SpainCoin',\n 'SecureCoin',\n 'SuperCoin',\n 'SyncCoin',\n 'SysCoin',\n 'TeslaCoin',\n 'TigerCoin',\n 'TittieCoin',\n 'TorCoin',\n 'TerraCoin',\n 'Umbrella',\n 'UnbreakableCoin',\n 'Unobtanium',\n 'UroCoin',\n 'UnitaryStatus Dollar',\n 'UltraCoin',\n 'Utility Coin',\n 'ViaCoin',\n 'VootCoin',\n 'VeriCoin',\n 'Vertcoin',\n 'WorldCoin',\n 'SocialXbotCoin',\n 'X11 Coin',\n 'Crypti',\n 'JouleCoin',\n 'StealthCoin',\n 'XXXCoin',\n 'ZCC Coin',\n 'ByteCoin',\n 'DigitalNote ',\n 'BurstCoin',\n 'StorjCoin',\n 'MonaCoin',\n 'Neutron',\n 'Sling Coin',\n 'KryptCoin',\n 'FairCoin',\n 'Gulden',\n 'RubyCoin',\n 'PesetaCoin',\n 'Kore',\n 'Wild Beast Coin',\n 'Dnotes',\n 'Flo',\n 'MaieutiCoin',\n '8BIT Coin',\n 'Sativa Coin',\n 'AeroMe',\n 'ArtByte',\n 'MasterTraderCoin',\n 'BitCredit',\n 'Folding Coin',\n 'Ucoin',\n 'Unitus',\n 'CypherPunkCoin',\n 'MaryJane Coin',\n 'OmniCron',\n 'CyberCoin',\n 'Vtorrent',\n 'GreenCoin',\n 'Unattanium',\n 'Cryptonite',\n 'Gridmaster',\n 'ConSpiracy Coin ',\n 'MasterCoin',\n 'SoonCoin',\n '1Credit',\n 'ViorCoin',\n 'IslaCoin',\n 'Quicksilver coin',\n 'Nexus',\n 'MarsCoin ',\n 'Singular',\n 'Crypto',\n 'Anarchists Prime',\n 'Droidz',\n 'BowsCoin',\n 'CryptoCircuits',\n 'Squall Coin',\n 'Milllionaire Coin',\n 'Song Coin',\n 'BitZeny',\n 'Diggits',\n 'Expanse',\n 'MapCoin',\n 'Paycon',\n 'Siacoin',\n 'Emercoin',\n 'BlitzCoin',\n 'EverGreenCoin',\n 'MindCoin',\n 'I0coin',\n 'Decred',\n 'DogeCoinDark',\n 'Revolution VR',\n 'HOdlcoin',\n 'EDRCoin',\n 'Hitcoin',\n 'Gamecredits',\n 'Dashcoin',\n 'DubaiCoin',\n 'BiosCrypto',\n 'CarpeDiemCoin',\n 'PWR Coin',\n 'TrumpCoin',\n 'BillaryCoin',\n 'EthereumScrypt',\n 'Phalanx',\n 'SunShotCoin',\n 'GPU Coin',\n 'HempCoin',\n 'Adzcoin',\n 'VirtaCoin',\n 'SoilCoin',\n 'YoCoin',\n 'Universal Currency',\n 'AEON',\n 'SibCoin',\n 'EuropeCoin',\n 'Anti Bitcoin',\n 'ZeitCoin',\n 'SwingCoin',\n 'SafeExchangeCoin',\n 'Nebuchadnezzar',\n 'Francs',\n 'BolivarCoin',\n 'GIZMOcoin',\n 'SecretCoin',\n 'Ratecoin',\n 'Digital Bullion Gold',\n 'Revenu',\n 'Clinton',\n 'Clockcoin',\n 'VIP Tokens',\n 'OrlyCoin',\n 'BitSend',\n '16BitCoin',\n 'ChessCoin',\n 'ReeCoin',\n 'Omni',\n 'Let it Ride',\n 'PutinCoin',\n 'iBankCoin',\n 'Frankywillcoin',\n 'MudraCoin',\n 'PizzaCoin',\n 'Lutetium Coin',\n 'Komodo',\n 'GoldBlocks',\n 'WayCoin',\n 'CarterCoin',\n 'Karbo',\n 'BitTokens',\n 'ZayedCoin',\n 'MustangCoin',\n 'ZoneCoin',\n 'Circuits of Value',\n 'RootCoin',\n 'DopeCoin',\n 'PROUD Money',\n 'BitCurrency',\n 'DollarCoin',\n 'Swiscoin',\n 'Shilling',\n 'BuzzCoin',\n 'Opair',\n 'PesoBit',\n 'GBR Coin',\n 'Halloween Coin',\n 'FujiCoin',\n 'ZCoin',\n 'LeaCoin',\n 'CoffeeCoin',\n 'RoyalCoin',\n 'Zurcoin',\n 'GanjaCoin V2',\n 'TeamUP',\n 'LanaCoin',\n 'Elementrem',\n 'CashOut',\n 'ZClassic',\n 'ARK',\n 'InsaneCoin',\n 'LuckChain',\n 'KiloCoin',\n 'Hush',\n 'ArtexCoin',\n 'EmberCoin',\n 'XenixCoin',\n 'FreeCoin',\n 'NPCcoin',\n 'PLNCoin',\n 'Icobid',\n 'AquariusCoin',\n 'Kurrent',\n 'Creatio',\n 'Eternity',\n 'Eurocoin',\n 'BitcoinFast',\n 'Stakenet',\n 'BitConnect Coin',\n 'MoneyCoin',\n 'Enigma',\n 'Cannabis Industry Coin',\n 'Russiacoin',\n 'PandaCoin',\n 'GameUnits',\n 'GAKHcoin',\n 'Allsafe',\n 'LiteCreed',\n 'OsmiumCoin',\n 'Bikercoins',\n 'NeptuneClassic',\n 'HexxCoin',\n 'GoldenBird',\n 'Ride My Car',\n 'Klingon Empire Darsek',\n 'Internet of People',\n 'KushCoin',\n 'Eryllium',\n 'MarxCoin',\n 'Printerium',\n 'PacCoin',\n 'Impeach',\n 'Solarflarecoin',\n 'Citadel',\n 'Zilbercoin',\n 'FirstCoin',\n 'CreativeChain',\n 'BeaverCoin',\n 'FindCoin',\n 'VaultCoin',\n 'Zero',\n 'OpenChat',\n 'Canada eCoin',\n 'Zoin',\n 'Musicoin',\n 'BnrtxCoin',\n 'RenosCoin',\n 'DubaiCoin',\n 'VirtacoinPlus',\n 'TajCoin',\n 'Impact',\n 'EB3coin',\n 'Universe',\n 'Atmos',\n 'HappyCoin',\n 'Coinonat',\n 'MacronCoin',\n 'Condensate',\n 'Independent Money System',\n 'ArgusCoin',\n 'LomoCoin',\n 'Bitcoin Scrypt',\n 'ProCurrency',\n 'GoldReserve',\n 'BenjiRolls',\n 'ParallelCoin',\n 'GrowthCoin',\n 'ILCoin',\n 'Phreak',\n 'Degas Coin',\n 'ZSEcoin',\n 'HTML5 Coin',\n 'Ultimate Secure Cash',\n 'EquiTrader',\n 'QTUM',\n 'Quantum Resistant Ledger',\n 'Espers',\n 'Dynamic',\n 'Nano',\n 'ChanCoin',\n 'Dinastycoin',\n 'Denarius',\n 'DigitalPrice',\n 'Virta Unique Coin',\n 'Bitcoin Planet',\n 'Unify',\n 'BritCoin',\n 'SocialCoin',\n 'Octanox',\n 'ArcticCoin',\n 'DAS',\n 'Linda',\n 'LeviarCoin',\n 'DeepOnion',\n 'Bitcore',\n 'gCn Coin',\n 'SmartCash',\n 'Signatum',\n 'Onix',\n 'Cream',\n 'Bitcoin Cash',\n 'Monoeci',\n 'CampusCoin',\n 'Draftcoin',\n 'Vechain',\n 'Sojourn Coin',\n 'Stakecoin',\n 'NewYorkCoin',\n 'LiteBitcoin',\n 'FrazCoin',\n 'Kronecoin',\n 'AdCoin',\n 'Linx',\n 'CoinonatX',\n 'Ethereum Dark',\n 'Sumokoin',\n 'Obsidian',\n 'Cardano',\n 'Regalcoin',\n 'BitcoinZ',\n 'TrezarCoin',\n 'Elements',\n 'TerraNovaCoin',\n 'VIVO Coin',\n 'Rupee',\n 'Bitcoin Gold',\n 'WomenCoin',\n 'Theresa May Coin',\n 'NamoCoin',\n 'LUXCoin',\n 'Pirl',\n 'Xios',\n 'Bitcloud 2.0',\n 'eBoost',\n 'KekCoin',\n 'BlackholeCoin',\n 'AltCommunity Coin',\n 'Pure',\n 'Rupaya',\n 'Infinity Economics',\n 'Pura',\n 'Innova',\n 'Bitdeal',\n 'Ellaism',\n 'Sakuracoin',\n 'GoByte',\n 'Castle',\n 'Magnet',\n 'Lamden Tau',\n 'Electra',\n 'Bitcoin Diamond',\n 'SHIELD',\n 'Cash & Back Coin',\n 'UltraNote',\n 'BitCoal',\n 'DaxxCoin',\n 'Bulwark',\n 'Kalkulus',\n 'AC3',\n 'CHIPS',\n 'Lethean',\n 'GermanCoin',\n 'LiteCoin Ultra',\n 'PopularCoin',\n 'PhantomX',\n 'HTML Coin',\n 'Photon',\n 'Sucre',\n 'Fantasy Cash',\n 'SparksPay',\n 'Digiwage',\n 'GunCoin',\n 'IrishCoin',\n 'Trollcoin',\n 'Litecoin Plus',\n 'Monkey Project',\n 'Pioneer Coin',\n 'UnitedBitcoin',\n 'Interzone',\n 'OP Coin',\n 'Valorbit',\n 'TokenPay',\n '1717 Masonic Commemorative Token',\n 'My Big Coin',\n 'TurtleCoin',\n 'MUNcoin',\n 'Unified Society USDEX',\n 'Niobio Cash',\n 'Bitcoin Private',\n 'Skeincoin',\n 'ShareChain',\n 'Travelflex',\n 'KREDS',\n 'Tokyo Coin',\n 'BiblePay',\n 'LitecoinCash',\n 'BitFlip',\n 'LottoCoin',\n 'LeafCoin',\n 'Cerberus',\n 'Bitcoin Hush',\n 'Crypto Improvement Fund',\n 'Stipend',\n 'Poa Network',\n 'Pushi',\n 'Ellerium',\n 'Velox',\n 'Ontology',\n 'Callisto Network',\n 'Curium',\n 'BitTube',\n 'Dinero',\n 'Poseidon',\n 'Aidos Kuneen',\n 'Bitspace',\n 'Snowgem',\n 'Briacoin',\n 'Ignition',\n 'Bitrolium',\n 'Bitcoin Interest',\n 'MedicCoin',\n 'Alpenschillling',\n 'Zelcash',\n 'Bitcoin Green',\n 'Deviant Coin',\n 'Abjcoin',\n 'Profit Hunters Coin',\n 'Semux',\n 'BitBlocks',\n 'FuturoCoin',\n 'Carebit',\n 'Zealium',\n 'Monero Classic',\n 'Proton',\n 'iDealCash',\n 'Jumpcoin',\n 'Infinex',\n 'Bitcoin Incognito',\n 'KEYCO',\n 'HollyWoodCoin',\n 'GINcoin',\n 'PlatinCoin',\n 'Loki',\n 'Newton Coin',\n 'Swisscoin',\n 'Xt3ch',\n 'MassGrid',\n 'TheVig',\n 'PluraCoin',\n 'EmaratCoin',\n 'Dekado',\n 'Lynx',\n 'Poseidon Quark',\n 'BitcoinWSpectrum',\n 'Muse',\n 'Motion',\n 'PlusOneCoin',\n 'Axe',\n 'Trivechain',\n 'Dystem',\n 'Giant',\n 'Peony Coin',\n 'SafeCoin',\n 'Absolute Coin',\n 'Vitae',\n 'HexCoin',\n 'TPCash',\n 'Webchain',\n 'Ryo',\n 'MUSDcoin',\n 'Urals Coin',\n 'Qwertycoin',\n 'ARENON',\n 'EUNO',\n 'MMOCoin',\n 'Ketan',\n 'NIX',\n 'Safe Trade Coin',\n 'Project Pai',\n 'Mont Blanc',\n 'XDNA',\n 'PAXEX',\n 'Azart',\n 'Apollon',\n 'ThunderStake',\n 'Kcash',\n 'Xchange',\n 'Acute Angle Cloud',\n 'Traid',\n 'CrypticCoin',\n 'Bettex coin',\n 'ZestCoin',\n 'X-CASH',\n 'Actinium',\n 'ETHER-1',\n 'Bitcoin SV',\n 'BitMoney',\n 'Bitcoiin2Gen',\n 'Junson Ming Chan Coin',\n 'FREDEnergy',\n 'Zenad',\n 'C25 Coin',\n 'HerbCoin',\n 'Aquachain',\n 'Universal Molecule',\n 'Lithium',\n 'Smart Bitcoin',\n 'PirateCash',\n 'Exosis',\n 'Block-Logic',\n 'Oduwa',\n 'Beam',\n 'Galilel',\n 'Bithereum',\n 'Crypto Sports',\n 'Credit',\n 'SLICE',\n 'Dash Platinum',\n 'Nasdacoin',\n 'Vidulum',\n 'Beetle Coin',\n 'Titan Coin',\n 'Award',\n 'BlockStamp',\n 'BLAST',\n 'Bitcoin Rhodium',\n 'GlobalToken',\n 'Insane Coin',\n 'ALAX',\n 'The Freedom Coin',\n 'LiteDoge',\n 'Boolberry',\n 'SolarCoin',\n 'TruckCoin',\n 'UFO Coin',\n 'Ascension Coin',\n 'OrangeCoin',\n 'BlakeCoin',\n 'BitstarCoin',\n 'NeosCoin',\n 'HyperCoin',\n 'PinkCoin',\n 'FantomCoin ',\n 'Crypto Escudo',\n 'AudioCoin',\n 'IncaKoin',\n 'Piggy Coin',\n 'Crown Coin',\n 'Genstake',\n 'Quazar Coin',\n 'SmileyCoin',\n 'ParkByte',\n 'XiaoMiCoin',\n 'Groestlcoin',\n 'CapriCoin',\n ' ClubCoin',\n 'Radium',\n 'Bata',\n 'Pakcoin',\n 'Creditbit ',\n 'OKCash',\n 'Lisk',\n 'HiCoin',\n 'WhiteCoin',\n 'Dotcoin',\n 'FriendshipCoin',\n 'The Hempcoin',\n 'Fiii',\n 'JoinCoin',\n 'Triangles Coin',\n 'Vollar',\n 'EOS',\n 'Reality Clash',\n 'Oxycoin',\n 'iOlite',\n 'TigerCash',\n 'Waves',\n 'Particl',\n 'BitTorrent',\n 'Nxt',\n 'ZEPHYR',\n 'Gapcoin',\n 'Beldex',\n 'Horizen',\n 'BitcoinPlus']"
     },
     "execution_count": 631,
     "metadata": {},
     "output_type": "execute_result"
    }
   ],
   "source": [
    "# Fetch the cryptocurrencies names prior to drop them from crypto_df\n",
    "list(crypto_df.CoinName)"
   ]
  },
  {
   "cell_type": "code",
   "execution_count": 632,
   "metadata": {},
   "outputs": [
    {
     "data": {
      "text/html": "<div>\n<style scoped>\n    .dataframe tbody tr th:only-of-type {\n        vertical-align: middle;\n    }\n\n    .dataframe tbody tr th {\n        vertical-align: top;\n    }\n\n    .dataframe thead th {\n        text-align: right;\n    }\n</style>\n<table border=\"1\" class=\"dataframe\">\n  <thead>\n    <tr style=\"text-align: right;\">\n      <th></th>\n      <th>Algorithm</th>\n      <th>ProofType</th>\n      <th>TotalCoinsMined</th>\n      <th>TotalCoinSupply</th>\n    </tr>\n  </thead>\n  <tbody>\n    <tr>\n      <th>42</th>\n      <td>Scrypt</td>\n      <td>PoW/PoS</td>\n      <td>4.199995e+01</td>\n      <td>42</td>\n    </tr>\n    <tr>\n      <th>404</th>\n      <td>Scrypt</td>\n      <td>PoW/PoS</td>\n      <td>1.055185e+09</td>\n      <td>532000000</td>\n    </tr>\n    <tr>\n      <th>808</th>\n      <td>SHA-256</td>\n      <td>PoW/PoS</td>\n      <td>0.000000e+00</td>\n      <td>0</td>\n    </tr>\n    <tr>\n      <th>1337</th>\n      <td>X13</td>\n      <td>PoW/PoS</td>\n      <td>2.927942e+10</td>\n      <td>314159265359</td>\n    </tr>\n    <tr>\n      <th>BTC</th>\n      <td>SHA-256</td>\n      <td>PoW</td>\n      <td>1.792718e+07</td>\n      <td>21000000</td>\n    </tr>\n  </tbody>\n</table>\n</div>",
      "text/plain": "     Algorithm ProofType  TotalCoinsMined TotalCoinSupply\n42      Scrypt   PoW/PoS     4.199995e+01              42\n404     Scrypt   PoW/PoS     1.055185e+09       532000000\n808    SHA-256   PoW/PoS     0.000000e+00               0\n1337       X13   PoW/PoS     2.927942e+10    314159265359\nBTC    SHA-256       PoW     1.792718e+07        21000000"
     },
     "execution_count": 632,
     "metadata": {},
     "output_type": "execute_result"
    }
   ],
   "source": [
    "# Remove the cryptocurrency name since it's not going to be used on the clustering algorithm\n",
    "crypto_df.drop(columns=[\"CoinName\"], inplace=True)\n",
    "crypto_df.head()"
   ]
  },
  {
   "cell_type": "code",
   "execution_count": 657,
   "metadata": {},
   "outputs": [
    {
     "data": {
      "text/html": "<div>\n<style scoped>\n    .dataframe tbody tr th:only-of-type {\n        vertical-align: middle;\n    }\n\n    .dataframe tbody tr th {\n        vertical-align: top;\n    }\n\n    .dataframe thead th {\n        text-align: right;\n    }\n</style>\n<table border=\"1\" class=\"dataframe\">\n  <thead>\n    <tr style=\"text-align: right;\">\n      <th></th>\n      <th>TotalCoinsMined</th>\n      <th>TotalCoinSupply</th>\n      <th>Algorithm_1GB AES Pattern Search</th>\n      <th>Algorithm_536</th>\n      <th>Algorithm_Argon2</th>\n      <th>Algorithm_Argon2d</th>\n      <th>Algorithm_BLAKE256</th>\n      <th>Algorithm_Blake</th>\n      <th>Algorithm_Blake2S</th>\n      <th>Algorithm_Blake2b</th>\n      <th>...</th>\n      <th>ProofType_PoW/PoS</th>\n      <th>ProofType_PoW/PoS</th>\n      <th>ProofType_PoW/PoW</th>\n      <th>ProofType_PoW/nPoS</th>\n      <th>ProofType_Pos</th>\n      <th>ProofType_Proof of Authority</th>\n      <th>ProofType_Proof of Trust</th>\n      <th>ProofType_TPoS</th>\n      <th>ProofType_Zero-Knowledge Proof</th>\n      <th>ProofType_dPoW/PoW</th>\n    </tr>\n  </thead>\n  <tbody>\n    <tr>\n      <th>42</th>\n      <td>4.199995e+01</td>\n      <td>42</td>\n      <td>0</td>\n      <td>0</td>\n      <td>0</td>\n      <td>0</td>\n      <td>0</td>\n      <td>0</td>\n      <td>0</td>\n      <td>0</td>\n      <td>...</td>\n      <td>1</td>\n      <td>0</td>\n      <td>0</td>\n      <td>0</td>\n      <td>0</td>\n      <td>0</td>\n      <td>0</td>\n      <td>0</td>\n      <td>0</td>\n      <td>0</td>\n    </tr>\n    <tr>\n      <th>404</th>\n      <td>1.055185e+09</td>\n      <td>532000000</td>\n      <td>0</td>\n      <td>0</td>\n      <td>0</td>\n      <td>0</td>\n      <td>0</td>\n      <td>0</td>\n      <td>0</td>\n      <td>0</td>\n      <td>...</td>\n      <td>1</td>\n      <td>0</td>\n      <td>0</td>\n      <td>0</td>\n      <td>0</td>\n      <td>0</td>\n      <td>0</td>\n      <td>0</td>\n      <td>0</td>\n      <td>0</td>\n    </tr>\n    <tr>\n      <th>808</th>\n      <td>0.000000e+00</td>\n      <td>0</td>\n      <td>0</td>\n      <td>0</td>\n      <td>0</td>\n      <td>0</td>\n      <td>0</td>\n      <td>0</td>\n      <td>0</td>\n      <td>0</td>\n      <td>...</td>\n      <td>1</td>\n      <td>0</td>\n      <td>0</td>\n      <td>0</td>\n      <td>0</td>\n      <td>0</td>\n      <td>0</td>\n      <td>0</td>\n      <td>0</td>\n      <td>0</td>\n    </tr>\n    <tr>\n      <th>1337</th>\n      <td>2.927942e+10</td>\n      <td>314159265359</td>\n      <td>0</td>\n      <td>0</td>\n      <td>0</td>\n      <td>0</td>\n      <td>0</td>\n      <td>0</td>\n      <td>0</td>\n      <td>0</td>\n      <td>...</td>\n      <td>1</td>\n      <td>0</td>\n      <td>0</td>\n      <td>0</td>\n      <td>0</td>\n      <td>0</td>\n      <td>0</td>\n      <td>0</td>\n      <td>0</td>\n      <td>0</td>\n    </tr>\n    <tr>\n      <th>BTC</th>\n      <td>1.792718e+07</td>\n      <td>21000000</td>\n      <td>0</td>\n      <td>0</td>\n      <td>0</td>\n      <td>0</td>\n      <td>0</td>\n      <td>0</td>\n      <td>0</td>\n      <td>0</td>\n      <td>...</td>\n      <td>0</td>\n      <td>0</td>\n      <td>0</td>\n      <td>0</td>\n      <td>0</td>\n      <td>0</td>\n      <td>0</td>\n      <td>0</td>\n      <td>0</td>\n      <td>0</td>\n    </tr>\n  </tbody>\n</table>\n<p>5 rows × 109 columns</p>\n</div>",
      "text/plain": "      TotalCoinsMined TotalCoinSupply  Algorithm_1GB AES Pattern Search  \\\n42       4.199995e+01              42                                 0   \n404      1.055185e+09       532000000                                 0   \n808      0.000000e+00               0                                 0   \n1337     2.927942e+10    314159265359                                 0   \nBTC      1.792718e+07        21000000                                 0   \n\n      Algorithm_536  Algorithm_Argon2  Algorithm_Argon2d  Algorithm_BLAKE256  \\\n42                0                 0                  0                   0   \n404               0                 0                  0                   0   \n808               0                 0                  0                   0   \n1337              0                 0                  0                   0   \nBTC               0                 0                  0                   0   \n\n      Algorithm_Blake  Algorithm_Blake2S  Algorithm_Blake2b  ...  \\\n42                  0                  0                  0  ...   \n404                 0                  0                  0  ...   \n808                 0                  0                  0  ...   \n1337                0                  0                  0  ...   \nBTC                 0                  0                  0  ...   \n\n      ProofType_PoW/PoS  ProofType_PoW/PoS   ProofType_PoW/PoW  \\\n42                    1                   0                  0   \n404                   1                   0                  0   \n808                   1                   0                  0   \n1337                  1                   0                  0   \nBTC                   0                   0                  0   \n\n      ProofType_PoW/nPoS  ProofType_Pos  ProofType_Proof of Authority  \\\n42                     0              0                             0   \n404                    0              0                             0   \n808                    0              0                             0   \n1337                   0              0                             0   \nBTC                    0              0                             0   \n\n      ProofType_Proof of Trust  ProofType_TPoS  \\\n42                           0               0   \n404                          0               0   \n808                          0               0   \n1337                         0               0   \nBTC                          0               0   \n\n      ProofType_Zero-Knowledge Proof  ProofType_dPoW/PoW  \n42                                 0                   0  \n404                                0                   0  \n808                                0                   0  \n1337                               0                   0  \nBTC                                0                   0  \n\n[5 rows x 109 columns]"
     },
     "execution_count": 657,
     "metadata": {},
     "output_type": "execute_result"
    }
   ],
   "source": [
    "# Create dummies variables for text features\n",
    "crypto_encoded = pd.get_dummies(crypto_df, columns=[\"Algorithm\", \"ProofType\"])\n",
    "crypto_encoded.head()\n",
    "\n"
   ]
  },
  {
   "cell_type": "code",
   "execution_count": 658,
   "metadata": {},
   "outputs": [],
   "source": [
    "file_path = Path(\"Resources/crypto_data_encoded.csv\")\n",
    "crypto_encoded.to_csv(file_path, index=False)"
   ]
  },
  {
   "cell_type": "code",
   "execution_count": 659,
   "metadata": {},
   "outputs": [
    {
     "data": {
      "text/plain": "StandardScaler(copy=True, with_mean=True, with_std=True)"
     },
     "execution_count": 659,
     "metadata": {},
     "output_type": "execute_result"
    }
   ],
   "source": [
    "# Standardize data\n",
    "data_scaler = StandardScaler()\n",
    "data_scaler.fit(crypto_encoded)"
   ]
  },
  {
   "cell_type": "markdown",
   "metadata": {},
   "source": [
    "### Reducing Dimensions Using PCA"
   ]
  },
  {
   "cell_type": "code",
   "execution_count": 687,
   "metadata": {},
   "outputs": [
    {
     "name": "stdout",
     "output_type": "stream",
     "text": "[[-0.10282804 -0.03823841 -0.03823596 -0.03823596 -0.03823596 -0.03823596\n  -0.05411338 -0.07664017 -0.03823596 -0.05411338 -0.05411338 -0.03823596\n  -0.03823596 -0.18216065 -0.05411338 -0.03823596 -0.03823596 -0.08574929\n  -0.03823596 -0.10160947 -0.06632365 -0.03823596 -0.03823596 -0.1642757\n  -0.03823596 -0.03823596 -0.13908716 -0.03823596 -0.03823596 -0.07664017\n  -0.03823596 -0.03823596 -0.03823596 -0.03823596 -0.06632365 -0.03823596\n  -0.07664017 -0.08574929 -0.07664017 -0.03823596 -0.03823596 -0.12775161\n  -0.1335313  -0.13908716 -0.03823596 -0.05411338 -0.03823596 -0.06632365\n  -0.1689039  -0.03823596 -0.03823596 -0.03823596 -0.07664017 -0.17342199\n  -0.33468341 -0.03823596 -0.08574929 -0.06632365 -0.05411338 -0.03823596\n   1.42042992 -0.06632365 -0.03823596 -0.03823596 -0.06632365 -0.06632365\n  -0.03823596 -0.03823596 -0.03823596 -0.03823596 -0.03823596 -0.03823596\n  -0.03823596 -0.41586681 -0.03823596 -0.19054822 -0.03823596 -0.10870529\n  -0.07664017 -0.09400279 -0.03823596 -0.03823596 -0.03823596 -0.03823596\n  -0.12171612 -0.03823596 -0.03823596 -0.03823596 -0.03823596 -0.03823596\n  -0.06632365 -0.42308595 -0.03823596 -0.05411338 -0.03823596 -0.03823596\n  -0.90921211 -0.03823596 -0.03823596  1.38379681 -0.03823596 -0.03823596\n  -0.03823596 -0.03823596 -0.03823596 -0.03823596 -0.03823596 -0.03823596\n  -0.03823596]\n [-0.07661326 -0.03823825 -0.03823596 -0.03823596 -0.03823596 -0.03823596\n  -0.05411338 -0.07664017 -0.03823596 -0.05411338 -0.05411338 -0.03823596\n  -0.03823596 -0.18216065 -0.05411338 -0.03823596 -0.03823596 -0.08574929\n  -0.03823596 -0.10160947 -0.06632365 -0.03823596 -0.03823596 -0.1642757\n  -0.03823596 -0.03823596 -0.13908716 -0.03823596 -0.03823596 -0.07664017\n  -0.03823596 -0.03823596 -0.03823596 -0.03823596 -0.06632365 -0.03823596\n  -0.07664017 -0.08574929 -0.07664017 -0.03823596 -0.03823596 -0.12775161\n  -0.1335313  -0.13908716 -0.03823596 -0.05411338 -0.03823596 -0.06632365\n  -0.1689039  -0.03823596 -0.03823596 -0.03823596 -0.07664017 -0.17342199\n  -0.33468341 -0.03823596 -0.08574929 -0.06632365 -0.05411338 -0.03823596\n   1.42042992 -0.06632365 -0.03823596 -0.03823596 -0.06632365 -0.06632365\n  -0.03823596 -0.03823596 -0.03823596 -0.03823596 -0.03823596 -0.03823596\n  -0.03823596 -0.41586681 -0.03823596 -0.19054822 -0.03823596 -0.10870529\n  -0.07664017 -0.09400279 -0.03823596 -0.03823596 -0.03823596 -0.03823596\n  -0.12171612 -0.03823596 -0.03823596 -0.03823596 -0.03823596 -0.03823596\n  -0.06632365 -0.42308595 -0.03823596 -0.05411338 -0.03823596 -0.03823596\n  -0.90921211 -0.03823596 -0.03823596  1.38379681 -0.03823596 -0.03823596\n  -0.03823596 -0.03823596 -0.03823596 -0.03823596 -0.03823596 -0.03823596\n  -0.03823596]\n [-0.10282804 -0.03823841 -0.03823596 -0.03823596 -0.03823596 -0.03823596\n  -0.05411338 -0.07664017 -0.03823596 -0.05411338 -0.05411338 -0.03823596\n  -0.03823596 -0.18216065 -0.05411338 -0.03823596 -0.03823596 -0.08574929\n  -0.03823596 -0.10160947 -0.06632365 -0.03823596 -0.03823596 -0.1642757\n  -0.03823596 -0.03823596 -0.13908716 -0.03823596 -0.03823596 -0.07664017\n  -0.03823596 -0.03823596 -0.03823596 -0.03823596 -0.06632365 -0.03823596\n  -0.07664017 -0.08574929 -0.07664017 -0.03823596 -0.03823596 -0.12775161\n  -0.1335313  -0.13908716 -0.03823596 -0.05411338 -0.03823596 -0.06632365\n  -0.1689039  -0.03823596 -0.03823596 -0.03823596 -0.07664017 -0.17342199\n   2.9878983  -0.03823596 -0.08574929 -0.06632365 -0.05411338 -0.03823596\n  -0.70401221 -0.06632365 -0.03823596 -0.03823596 -0.06632365 -0.06632365\n  -0.03823596 -0.03823596 -0.03823596 -0.03823596 -0.03823596 -0.03823596\n  -0.03823596 -0.41586681 -0.03823596 -0.19054822 -0.03823596 -0.10870529\n  -0.07664017 -0.09400279 -0.03823596 -0.03823596 -0.03823596 -0.03823596\n  -0.12171612 -0.03823596 -0.03823596 -0.03823596 -0.03823596 -0.03823596\n  -0.06632365 -0.42308595 -0.03823596 -0.05411338 -0.03823596 -0.03823596\n  -0.90921211 -0.03823596 -0.03823596  1.38379681 -0.03823596 -0.03823596\n  -0.03823596 -0.03823596 -0.03823596 -0.03823596 -0.03823596 -0.03823596\n  -0.03823596]\n [ 0.62458365 -0.03814919 -0.03823596 -0.03823596 -0.03823596 -0.03823596\n  -0.05411338 -0.07664017 -0.03823596 -0.05411338 -0.05411338 -0.03823596\n  -0.03823596 -0.18216065 -0.05411338 -0.03823596 -0.03823596 -0.08574929\n  -0.03823596 -0.10160947 -0.06632365 -0.03823596 -0.03823596 -0.1642757\n  -0.03823596 -0.03823596 -0.13908716 -0.03823596 -0.03823596 -0.07664017\n  -0.03823596 -0.03823596 -0.03823596 -0.03823596 -0.06632365 -0.03823596\n  -0.07664017 -0.08574929 -0.07664017 -0.03823596 -0.03823596 -0.12775161\n  -0.1335313  -0.13908716 -0.03823596 -0.05411338 -0.03823596 -0.06632365\n  -0.1689039  -0.03823596 -0.03823596 -0.03823596 -0.07664017 -0.17342199\n  -0.33468341 -0.03823596 -0.08574929 -0.06632365 -0.05411338 -0.03823596\n  -0.70401221 -0.06632365 -0.03823596 -0.03823596 -0.06632365 -0.06632365\n  -0.03823596 -0.03823596 -0.03823596 -0.03823596 -0.03823596 -0.03823596\n  -0.03823596 -0.41586681 -0.03823596  5.2480155  -0.03823596 -0.10870529\n  -0.07664017 -0.09400279 -0.03823596 -0.03823596 -0.03823596 -0.03823596\n  -0.12171612 -0.03823596 -0.03823596 -0.03823596 -0.03823596 -0.03823596\n  -0.06632365 -0.42308595 -0.03823596 -0.05411338 -0.03823596 -0.03823596\n  -0.90921211 -0.03823596 -0.03823596  1.38379681 -0.03823596 -0.03823596\n  -0.03823596 -0.03823596 -0.03823596 -0.03823596 -0.03823596 -0.03823596\n  -0.03823596]\n [-0.10238266 -0.0382384  -0.03823596 -0.03823596 -0.03823596 -0.03823596\n  -0.05411338 -0.07664017 -0.03823596 -0.05411338 -0.05411338 -0.03823596\n  -0.03823596 -0.18216065 -0.05411338 -0.03823596 -0.03823596 -0.08574929\n  -0.03823596 -0.10160947 -0.06632365 -0.03823596 -0.03823596 -0.1642757\n  -0.03823596 -0.03823596 -0.13908716 -0.03823596 -0.03823596 -0.07664017\n  -0.03823596 -0.03823596 -0.03823596 -0.03823596 -0.06632365 -0.03823596\n  -0.07664017 -0.08574929 -0.07664017 -0.03823596 -0.03823596 -0.12775161\n  -0.1335313  -0.13908716 -0.03823596 -0.05411338 -0.03823596 -0.06632365\n  -0.1689039  -0.03823596 -0.03823596 -0.03823596 -0.07664017 -0.17342199\n   2.9878983  -0.03823596 -0.08574929 -0.06632365 -0.05411338 -0.03823596\n  -0.70401221 -0.06632365 -0.03823596 -0.03823596 -0.06632365 -0.06632365\n  -0.03823596 -0.03823596 -0.03823596 -0.03823596 -0.03823596 -0.03823596\n  -0.03823596 -0.41586681 -0.03823596 -0.19054822 -0.03823596 -0.10870529\n  -0.07664017 -0.09400279 -0.03823596 -0.03823596 -0.03823596 -0.03823596\n  -0.12171612 -0.03823596 -0.03823596 -0.03823596 -0.03823596 -0.03823596\n  -0.06632365 -0.42308595 -0.03823596 -0.05411338 -0.03823596 -0.03823596\n   1.09985336 -0.03823596 -0.03823596 -0.72264945 -0.03823596 -0.03823596\n  -0.03823596 -0.03823596 -0.03823596 -0.03823596 -0.03823596 -0.03823596\n  -0.03823596]]\n"
    }
   ],
   "source": [
    "# Use PCA to reduce dimension to 3 principal components\n",
    "crypto_scaled = StandardScaler().fit_transform(crypto_encoded)\n",
    "print(crypto_scaled[0:5])\n",
    "pca = PCA(n_components=3)"
   ]
  },
  {
   "cell_type": "code",
   "execution_count": null,
   "metadata": {},
   "outputs": [],
   "source": [
    "# Create a DataFrame with the principal components data\n",
    "df_crypto_pca = pd.DataFrame(\n",
    "    data=crypto_scaled, \n",
    "    columns=[\"principal component 1\", \"principal component 2\", \"principal component 3\" ],\n",
    "    index = crypto_df.index\n",
    ")\n",
    "df_crypto_pca.head()"
   ]
  },
  {
   "cell_type": "markdown",
   "metadata": {},
   "source": [
    "### Clustering Crytocurrencies Using K-Means\n",
    "\n",
    "#### Find the Best Value for `k` Using the Elbow Curve"
   ]
  },
  {
   "cell_type": "code",
   "execution_count": 1,
   "metadata": {},
   "outputs": [
    {
     "ename": "NameError",
     "evalue": "name 'KMeans' is not defined",
     "output_type": "error",
     "traceback": [
      "\u001b[0;31m---------------------------------------------------------------------------\u001b[0m",
      "\u001b[0;31mNameError\u001b[0m                                 Traceback (most recent call last)",
      "\u001b[0;32m<ipython-input-1-e79089a15c3e>\u001b[0m in \u001b[0;36m<module>\u001b[0;34m\u001b[0m\n\u001b[1;32m      4\u001b[0m \u001b[0;31m# Calculate the inertia for the range ok k values\u001b[0m\u001b[0;34m\u001b[0m\u001b[0;34m\u001b[0m\u001b[0;34m\u001b[0m\u001b[0m\n\u001b[1;32m      5\u001b[0m \u001b[0;32mfor\u001b[0m \u001b[0mi\u001b[0m \u001b[0;32min\u001b[0m \u001b[0mk\u001b[0m\u001b[0;34m:\u001b[0m\u001b[0;34m\u001b[0m\u001b[0;34m\u001b[0m\u001b[0m\n\u001b[0;32m----> 6\u001b[0;31m     \u001b[0mkm\u001b[0m \u001b[0;34m=\u001b[0m \u001b[0mKMeans\u001b[0m\u001b[0;34m(\u001b[0m\u001b[0mn_clusters\u001b[0m\u001b[0;34m=\u001b[0m\u001b[0mi\u001b[0m\u001b[0;34m,\u001b[0m \u001b[0mrandom_state\u001b[0m\u001b[0;34m=\u001b[0m\u001b[0;36m0\u001b[0m\u001b[0;34m)\u001b[0m\u001b[0;34m\u001b[0m\u001b[0;34m\u001b[0m\u001b[0m\n\u001b[0m\u001b[1;32m      7\u001b[0m     \u001b[0mkm\u001b[0m\u001b[0;34m.\u001b[0m\u001b[0mfit\u001b[0m\u001b[0;34m(\u001b[0m\u001b[0mdf_iris_pca\u001b[0m\u001b[0;34m)\u001b[0m\u001b[0;34m\u001b[0m\u001b[0;34m\u001b[0m\u001b[0m\n\u001b[1;32m      8\u001b[0m     \u001b[0minertia\u001b[0m\u001b[0;34m.\u001b[0m\u001b[0mappend\u001b[0m\u001b[0;34m(\u001b[0m\u001b[0mkm\u001b[0m\u001b[0;34m.\u001b[0m\u001b[0minertia_\u001b[0m\u001b[0;34m)\u001b[0m\u001b[0;34m\u001b[0m\u001b[0;34m\u001b[0m\u001b[0m\n",
      "\u001b[0;31mNameError\u001b[0m: name 'KMeans' is not defined"
     ]
    }
   ],
   "source": [
    "inertia = []\n",
    "k = list(range(1, 11))\n",
    "\n",
    "# Calculate the inertia for the range ok k values\n",
    "for i in k:\n",
    "    km = KMeans(n_clusters=i, random_state=0)\n",
    "    km.fit(df_iris_pca)\n",
    "    inertia.append(km.inertia_)\n",
    "\n",
    "\n",
    "# Create the Elbow Curve using hvPlot\n",
    "elbow_data = {\"k\": k, \"inertia\": inertia}\n",
    "df_elbow = pd.DataFrame(elbow_data)\n",
    "df_elbow.hvplot.line(x=\"k\", y=\"inertia\", xticks=k, title=\"Elbow Curve\")\n"
   ]
  },
  {
   "cell_type": "markdown",
   "metadata": {},
   "source": [
    "Running K-Means with `k=4`"
   ]
  },
  {
   "cell_type": "code",
   "execution_count": null,
   "metadata": {},
   "outputs": [],
   "source": [
    "# Initialize the K-Means model\n",
    "model = KMeans(n_clusters=4, random_state=0)\n",
    "# Fit the model\n",
    "model.fit(df_crypto_pca)\n",
    "# Predict clusters\n",
    "predictions = model.predict(df_crypto_pca)\n",
    "# Create a new DataFrame including predicted clusters and cryptocurrencies features\n",
    "df_crypto_pca[\"Predcted\", \"Feature\"] = model.labels_\n",
    "df_crypto_pca.head()"
   ]
  },
  {
   "cell_type": "markdown",
   "metadata": {},
   "source": [
    "### Visualizing Results\n",
    "\n",
    "#### 3D-Scatter with Clusters"
   ]
  },
  {
   "cell_type": "code",
   "execution_count": null,
   "metadata": {},
   "outputs": [],
   "source": [
    "# Create a 3D-Scatter with the PCA data and the clusters\n",
    "df_crypto_pca.hvplot.scatter(\n",
    "    x=\"principal component 1\",\n",
    "    y=\"principal component 2\",\n",
    "    hover_cols=[\"Predicted\"],\n",
    "    by=\"Predicted\",\n",
    "    width = 800\n",
    ")\n",
    "fig.update_layout(legend=dict(x=0,y=1))\n",
    "fig.show()"
   ]
  },
  {
   "cell_type": "markdown",
   "metadata": {},
   "source": [
    "#### Table of Tradable Cryptocurrencies"
   ]
  },
  {
   "cell_type": "code",
   "execution_count": null,
   "metadata": {},
   "outputs": [],
   "source": [
    "# Table with tradable cryptos\n",
    "df_crypto_pca.insert(0,'CoinName', coin_names)\n",
    "df_crypto_pca.hvplot.table(columns=['CoinName', 'Algorithm', 'ProofType', 'TotalCoinSupply', 'TotalCoinsMined'], width=800)"
   ]
  },
  {
   "cell_type": "code",
   "execution_count": null,
   "metadata": {},
   "outputs": [],
   "source": [
    "# Print the total number of tradable cryptocurrencies\n",
    "print (f'Total of {df_crypto_pca.count()} tradable cryptocurrencies)"
   ]
  },
  {
   "cell_type": "markdown",
   "metadata": {},
   "source": [
    "#### Scatter Plot with Tradable Cryptocurrencies"
   ]
  },
  {
   "cell_type": "code",
   "execution_count": null,
   "metadata": {},
   "outputs": [],
   "source": [
    "# Scale data to create the scatter plot\n"
   ]
  },
  {
   "cell_type": "code",
   "execution_count": null,
   "metadata": {},
   "outputs": [],
   "source": [
    "# Plot the scatter with x=\"TotalCoinsMined\" and y=\"TotalCoinSupply\"\n"
   ]
  }
 ],
 "metadata": {
  "file_extension": ".py",
  "kernelspec": {
   "display_name": "Python 3",
   "language": "python",
   "name": "python3"
  },
  "language_info": {
   "codemirror_mode": {
    "name": "ipython",
    "version": 3
   },
   "file_extension": ".py",
   "mimetype": "text/x-python",
   "name": "python",
   "nbconvert_exporter": "python",
   "pygments_lexer": "ipython3",
   "version": "3.7.4-final"
  },
  "mimetype": "text/x-python",
  "name": "python",
  "npconvert_exporter": "python",
  "pygments_lexer": "ipython3",
  "version": 3
 },
 "nbformat": 4,
 "nbformat_minor": 4
}